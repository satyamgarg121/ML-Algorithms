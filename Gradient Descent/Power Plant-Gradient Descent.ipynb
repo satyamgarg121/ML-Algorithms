{
 "cells": [
  {
   "cell_type": "code",
   "execution_count": 1,
   "metadata": {},
   "outputs": [
    {
     "data": {
      "text/plain": [
       "(2392, 7)"
      ]
     },
     "execution_count": 1,
     "metadata": {},
     "output_type": "execute_result"
    }
   ],
   "source": [
    "##Gradient Descent\n",
    "\n",
    "import pandas as pd\n",
    "import numpy as np\n",
    "from sklearn import model_selection\n",
    "from sklearn.linear_model import LinearRegression\n",
    "from sklearn import preprocessing \n",
    "\n",
    "scaler = preprocessing.StandardScaler()\n",
    "\n",
    "test = np.genfromtxt('0000000000002419_test_ccpp_x_test.csv',delimiter = ',')\n",
    "train = np.genfromtxt('0000000000002419_training_ccpp_x_y_train.csv', delimiter = ',')\n",
    "X_train = train[:,:4]\n",
    "X_train = np.c_[X_train,X_train[:,0]*X_train[:,0]*X_train[:,0]]\n",
    "X_train = np.c_[X_train,X_train[:,1]*X_train[:,1]]\n",
    "\n",
    "test = np.c_[test,test[:,0]*test[:,0]*test[:,0]]\n",
    "test = np.c_[test,test[:,1]*test[:,1]]\n",
    "\n",
    "\n",
    "scaler.fit(X_train)\n",
    "Y_train = train[:,4]\n",
    "\n",
    "X_train = scaler.transform(X_train)\n",
    "test = scaler.transform(test)\n",
    "X_train = np.c_[X_train,np.ones(len(X_train))]\n",
    "test = np.c_[test,np.ones(len(test))]\n",
    "test.shape"
   ]
  },
  {
   "cell_type": "code",
   "execution_count": 2,
   "metadata": {},
   "outputs": [],
   "source": [
    "def predict(X,m):\n",
    "    y=[]\n",
    "    for i in range(len(X)):\n",
    "        t= (X[i]*m).sum()\n",
    "        y.append(t)\n",
    "        \n",
    "    return y\n",
    "\n",
    "def score(X,Y,m):\n",
    "    y_predict = predict(X,m)\n",
    "    score = ((Y - y_predict)**2).sum()/((Y - Y.mean())**2).sum()\n",
    "    score = 1- score\n",
    "    return  score\n",
    "\n",
    "def cost(X,Y,m):\n",
    "    c=0\n",
    "    for j in range(len(X)):\n",
    "        c+= (1/len(X))*(Y.sum() - (m*X[j]).sum())**2\n",
    "    return c\n",
    "\n",
    "def step_gradient(X,Y,m,learning_rate):\n",
    "    temp_m= m \n",
    "    for i in range(len(X)):\n",
    "        slope=0\n",
    "        for j in range(len(X[0])):\n",
    "            slope= (-2/len(X))*(Y[i]*X[i][j] - (X[i]*temp_m*X[i][j]).sum())\n",
    "            m[j]= m[j]-learning_rate*slope\n",
    "        \n",
    "        \n",
    "    return m\n",
    "\n",
    "def gd(X,Y,num_itr,learning_rate):\n",
    "    \n",
    "    m=np.zeros(len(X[0]))\n",
    "    for i in range(num_itr):\n",
    "        print(cost(X,Y,m))\n",
    "        m = step_gradient(X,Y,m,learning_rate)\n",
    "    \n",
    "    return m"
   ]
  },
  {
   "cell_type": "code",
   "execution_count": 3,
   "metadata": {},
   "outputs": [
    {
     "name": "stdout",
     "output_type": "stream",
     "text": [
      "10634114217122.744\n",
      "10631552696685.596\n",
      "10631205389887.01\n",
      "10631158276154.102\n",
      "10631151874657.38\n",
      "10631150995440.725\n",
      "10631150866087.062\n",
      "10631150839330.639\n",
      "10631150827338.494\n",
      "10631150818140.479\n",
      "10631150810052.225\n",
      "10631150802784.705\n",
      "10631150796239.799\n",
      "10631150790348.596\n",
      "10631150785049.73\n",
      "10631150780286.484\n",
      "10631150776006.814\n",
      "10631150772163.318\n",
      "10631150768712.467\n",
      "10631150765615.008\n",
      "10631150762835.389\n",
      "10631150760341.254\n",
      "10631150758103.574\n",
      "10631150756096.293\n",
      "10631150754295.8\n",
      "10631150752680.947\n",
      "10631150751232.756\n",
      "10631150749933.957\n",
      "10631150748769.277\n",
      "10631150747724.996\n",
      "10631150746788.57\n",
      "10631150745949.014\n",
      "10631150745196.346\n",
      "10631150744521.555\n",
      "10631150743916.646\n",
      "10631150743374.443\n",
      "10631150742888.424\n",
      "10631150742452.812\n",
      "10631150742062.488\n",
      "10631150741712.717\n",
      "10631150741399.297\n",
      "10631150741118.5\n",
      "10631150740866.977\n",
      "10631150740641.646\n",
      "10631150740439.979\n",
      "10631150740259.242\n",
      "10631150740097.6\n",
      "10631150739952.783\n",
      "10631150739823.295\n",
      "10631150739707.467\n",
      "[-1.84694790e+01 -3.45098616e+00  5.46956275e-01 -1.69761287e+00\n",
      "  4.69061938e+00 -1.12933180e-01  4.54413559e+02]\n"
     ]
    }
   ],
   "source": [
    "learning_rate = 1\n",
    "\n",
    "num_itr=50\n",
    "\n",
    "m = gd(X_train,Y_train,num_itr,learning_rate)\n",
    "print(m)"
   ]
  },
  {
   "cell_type": "code",
   "execution_count": 4,
   "metadata": {},
   "outputs": [
    {
     "data": {
      "text/plain": [
       "0.9361957535862253"
      ]
     },
     "execution_count": 4,
     "metadata": {},
     "output_type": "execute_result"
    }
   ],
   "source": [
    "\n",
    "y = predict(test,m)\n",
    "score(X_train, Y_train,m)"
   ]
  },
  {
   "cell_type": "code",
   "execution_count": 5,
   "metadata": {},
   "outputs": [],
   "source": [
    "np.savetxt('ccpp.csv',y,fmt = '%f', delimiter = ',')"
   ]
  }
 ],
 "metadata": {
  "kernelspec": {
   "display_name": "Python 3",
   "language": "python",
   "name": "python3"
  },
  "language_info": {
   "codemirror_mode": {
    "name": "ipython",
    "version": 3
   },
   "file_extension": ".py",
   "mimetype": "text/x-python",
   "name": "python",
   "nbconvert_exporter": "python",
   "pygments_lexer": "ipython3",
   "version": "3.7.3"
  }
 },
 "nbformat": 4,
 "nbformat_minor": 2
}
